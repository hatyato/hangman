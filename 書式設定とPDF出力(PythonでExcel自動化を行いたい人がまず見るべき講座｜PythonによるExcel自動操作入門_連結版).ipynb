{
  "nbformat": 4,
  "nbformat_minor": 0,
  "metadata": {
    "colab": {
      "name": "書式設定とPDF出力(PythonでExcel自動化を行いたい人がまず見るべき講座｜PythonによるExcel自動操作入門 連結版).ipynb",
      "provenance": [],
      "authorship_tag": "ABX9TyOmLCTJJVwr+ThHQUV94CtF",
      "include_colab_link": true
    },
    "kernelspec": {
      "name": "python3",
      "display_name": "Python 3"
    },
    "language_info": {
      "name": "python"
    }
  },
  "cells": [
    {
      "cell_type": "markdown",
      "metadata": {
        "id": "view-in-github",
        "colab_type": "text"
      },
      "source": [
        "<a href=\"https://colab.research.google.com/github/hatyato/hangman/blob/master/%E6%9B%B8%E5%BC%8F%E8%A8%AD%E5%AE%9A%E3%81%A8PDF%E5%87%BA%E5%8A%9B(Python%E3%81%A7Excel%E8%87%AA%E5%8B%95%E5%8C%96%E3%82%92%E8%A1%8C%E3%81%84%E3%81%9F%E3%81%84%E4%BA%BA%E3%81%8C%E3%81%BE%E3%81%9A%E8%A6%8B%E3%82%8B%E3%81%B9%E3%81%8D%E8%AC%9B%E5%BA%A7%EF%BD%9CPython%E3%81%AB%E3%82%88%E3%82%8BExcel%E8%87%AA%E5%8B%95%E6%93%8D%E4%BD%9C%E5%85%A5%E9%96%80_%E9%80%A3%E7%B5%90%E7%89%88).ipynb\" target=\"_parent\"><img src=\"https://colab.research.google.com/assets/colab-badge.svg\" alt=\"Open In Colab\"/></a>"
      ]
    },
    {
      "cell_type": "code",
      "metadata": {
        "colab": {
          "base_uri": "https://localhost:8080/"
        },
        "id": "UIXMDeSfpt3M",
        "outputId": "422aba45-aec3-4142-e2d6-45a76f449346"
      },
      "source": [
        "!pip install openpyxl"
      ],
      "execution_count": 1,
      "outputs": [
        {
          "output_type": "stream",
          "name": "stdout",
          "text": [
            "Requirement already satisfied: openpyxl in /usr/local/lib/python3.7/dist-packages (2.5.9)\n",
            "Requirement already satisfied: et-xmlfile in /usr/local/lib/python3.7/dist-packages (from openpyxl) (1.1.0)\n",
            "Requirement already satisfied: jdcal in /usr/local/lib/python3.7/dist-packages (from openpyxl) (1.4.1)\n"
          ]
        }
      ]
    },
    {
      "cell_type": "code",
      "metadata": {
        "id": "19FrJvRCFrl1"
      },
      "source": [
        "import openpyxl\n",
        "from openpyxl.styles import PatternFill, Font, Border, Side"
      ],
      "execution_count": 2,
      "outputs": []
    },
    {
      "cell_type": "code",
      "metadata": {
        "id": "HUbP2bw6F9PS"
      },
      "source": [
        "from glob import glob"
      ],
      "execution_count": 3,
      "outputs": []
    },
    {
      "cell_type": "code",
      "metadata": {
        "colab": {
          "base_uri": "https://localhost:8080/",
          "height": 35
        },
        "id": "BpX9oxk4IYJ5",
        "outputId": "057fcd1f-6d28-4aeb-b9c7-c42b409fb93f"
      },
      "source": [
        "filepath = glob('/content/企業別年間売上表.xlsx')[0]\n",
        "filepath"
      ],
      "execution_count": 6,
      "outputs": [
        {
          "output_type": "execute_result",
          "data": {
            "application/vnd.google.colaboratory.intrinsic+json": {
              "type": "string"
            },
            "text/plain": [
              "'/content/企業別年間売上表.xlsx'"
            ]
          },
          "metadata": {},
          "execution_count": 6
        }
      ]
    },
    {
      "cell_type": "code",
      "metadata": {
        "colab": {
          "base_uri": "https://localhost:8080/"
        },
        "id": "e4RxvZRMIqvj",
        "outputId": "782a2eb5-be36-40dc-dcb2-9b88ab835b64"
      },
      "source": [
        "openpyxl.load_workbook(filepath)"
      ],
      "execution_count": 7,
      "outputs": [
        {
          "output_type": "execute_result",
          "data": {
            "text/plain": [
              "<openpyxl.workbook.workbook.Workbook at 0x7f3ac0df5a90>"
            ]
          },
          "metadata": {},
          "execution_count": 7
        }
      ]
    },
    {
      "cell_type": "code",
      "metadata": {
        "id": "AoCVFbDoIv1l"
      },
      "source": [
        "wb = openpyxl.load_workbook(filepath)\n",
        "sh = wb.active"
      ],
      "execution_count": 8,
      "outputs": []
    },
    {
      "cell_type": "markdown",
      "metadata": {
        "id": "R0xaIjrbJOTs"
      },
      "source": [
        "#カラム幅の調整"
      ]
    },
    {
      "cell_type": "code",
      "metadata": {
        "id": "59uFvTV2I3OA"
      },
      "source": [
        "max_col = sh.max_column"
      ],
      "execution_count": 9,
      "outputs": []
    },
    {
      "cell_type": "code",
      "metadata": {
        "colab": {
          "base_uri": "https://localhost:8080/"
        },
        "id": "-YU8pAd4JleH",
        "outputId": "87fc775c-f761-43c7-8089-69a5255b1f5f"
      },
      "source": [
        "max_col"
      ],
      "execution_count": 10,
      "outputs": [
        {
          "output_type": "execute_result",
          "data": {
            "text/plain": [
              "15"
            ]
          },
          "metadata": {},
          "execution_count": 10
        }
      ]
    },
    {
      "cell_type": "code",
      "metadata": {
        "id": "m9a_lIcxJpuM"
      },
      "source": [
        "import string"
      ],
      "execution_count": 11,
      "outputs": []
    },
    {
      "cell_type": "code",
      "metadata": {
        "colab": {
          "base_uri": "https://localhost:8080/",
          "height": 35
        },
        "id": "CRWLUIgwJtWX",
        "outputId": "a606b173-b6bb-44a7-e331-ffc5f55baa0b"
      },
      "source": [
        "cols = string.ascii_uppercase[:max_col]\n",
        "cols"
      ],
      "execution_count": 12,
      "outputs": [
        {
          "output_type": "execute_result",
          "data": {
            "application/vnd.google.colaboratory.intrinsic+json": {
              "type": "string"
            },
            "text/plain": [
              "'ABCDEFGHIJKLMNO'"
            ]
          },
          "metadata": {},
          "execution_count": 12
        }
      ]
    },
    {
      "cell_type": "code",
      "metadata": {
        "colab": {
          "base_uri": "https://localhost:8080/"
        },
        "id": "vygCQY3TJ1ZN",
        "outputId": "6b877809-8a12-43d5-c30d-7d844d24e939"
      },
      "source": [
        "widths = [12]*max_col\n",
        "widths"
      ],
      "execution_count": 15,
      "outputs": [
        {
          "output_type": "execute_result",
          "data": {
            "text/plain": [
              "[12, 12, 12, 12, 12, 12, 12, 12, 12, 12, 12, 12, 12, 12, 12]"
            ]
          },
          "metadata": {},
          "execution_count": 15
        }
      ]
    },
    {
      "cell_type": "code",
      "metadata": {
        "id": "6vF9lMHqLU5E"
      },
      "source": [
        "widths[0] = 10\n",
        "widths[1] = 18"
      ],
      "execution_count": 16,
      "outputs": []
    },
    {
      "cell_type": "code",
      "metadata": {
        "colab": {
          "base_uri": "https://localhost:8080/"
        },
        "id": "r3jfEJq2LUdB",
        "outputId": "d692658a-3a4b-43d2-c860-673d4874f909"
      },
      "source": [
        "widths"
      ],
      "execution_count": 17,
      "outputs": [
        {
          "output_type": "execute_result",
          "data": {
            "text/plain": [
              "[10, 18, 12, 12, 12, 12, 12, 12, 12, 12, 12, 12, 12, 12, 12]"
            ]
          },
          "metadata": {},
          "execution_count": 17
        }
      ]
    },
    {
      "cell_type": "code",
      "metadata": {
        "colab": {
          "base_uri": "https://localhost:8080/"
        },
        "id": "JXf77zQBJ9k5",
        "outputId": "bd56d80f-295f-4dc7-9bd3-99b75cfa9d7c"
      },
      "source": [
        "width_prefs = {}\n",
        "\n",
        "for col, width in zip(cols, widths):\n",
        "    print(col, width)"
      ],
      "execution_count": 18,
      "outputs": [
        {
          "output_type": "stream",
          "name": "stdout",
          "text": [
            "A 10\n",
            "B 18\n",
            "C 12\n",
            "D 12\n",
            "E 12\n",
            "F 12\n",
            "G 12\n",
            "H 12\n",
            "I 12\n",
            "J 12\n",
            "K 12\n",
            "L 12\n",
            "M 12\n",
            "N 12\n",
            "O 12\n"
          ]
        }
      ]
    },
    {
      "cell_type": "code",
      "metadata": {
        "id": "qRKIUqajKyS6"
      },
      "source": [
        "for col, width in zip(cols, widths):\n",
        "    width_prefs.update({col: width})"
      ],
      "execution_count": 22,
      "outputs": []
    },
    {
      "cell_type": "code",
      "metadata": {
        "colab": {
          "base_uri": "https://localhost:8080/"
        },
        "id": "FNlSqYGCL6wR",
        "outputId": "196d25b9-ce89-406d-8ce6-50d03fc88ccc"
      },
      "source": [
        "width_prefs"
      ],
      "execution_count": 23,
      "outputs": [
        {
          "output_type": "execute_result",
          "data": {
            "text/plain": [
              "{'A': 10,\n",
              " 'B': 18,\n",
              " 'C': 12,\n",
              " 'D': 12,\n",
              " 'E': 12,\n",
              " 'F': 12,\n",
              " 'G': 12,\n",
              " 'H': 12,\n",
              " 'I': 12,\n",
              " 'J': 12,\n",
              " 'K': 12,\n",
              " 'L': 12,\n",
              " 'M': 12,\n",
              " 'N': 12,\n",
              " 'O': 12}"
            ]
          },
          "metadata": {},
          "execution_count": 23
        }
      ]
    },
    {
      "cell_type": "code",
      "metadata": {
        "id": "Gqw1Q_tkMBuC"
      },
      "source": [
        "col_name = 'A'\n",
        "sh.column_dimensions[col_name].width = width_prefs[col_name]"
      ],
      "execution_count": 24,
      "outputs": []
    },
    {
      "cell_type": "code",
      "metadata": {
        "id": "JILiNLViVUig"
      },
      "source": [
        "for col_name in width_prefs:\n",
        "    sh.column_dimensions[col_name].width = width_prefs[col_name]"
      ],
      "execution_count": 26,
      "outputs": []
    },
    {
      "cell_type": "code",
      "metadata": {
        "id": "h5MV_osEVxFO"
      },
      "source": [
        "wb.save(filepath) #カラム幅の調整"
      ],
      "execution_count": 27,
      "outputs": []
    },
    {
      "cell_type": "markdown",
      "metadata": {
        "id": "2Nrwo6pAWjgx"
      },
      "source": [
        "#行幅の調整"
      ]
    },
    {
      "cell_type": "code",
      "metadata": {
        "id": "-EtVZduSWJu2"
      },
      "source": [
        "sh.row_dimensions[2].height = 18"
      ],
      "execution_count": 28,
      "outputs": []
    },
    {
      "cell_type": "code",
      "metadata": {
        "id": "iLiLQmHVW3sD"
      },
      "source": [
        "#　行数の確認"
      ],
      "execution_count": 29,
      "outputs": []
    },
    {
      "cell_type": "code",
      "metadata": {
        "colab": {
          "base_uri": "https://localhost:8080/"
        },
        "id": "l0Q32pYcXZve",
        "outputId": "5ab78235-6fde-4cb8-dbba-873402090e1e"
      },
      "source": [
        "sh.max_row"
      ],
      "execution_count": 30,
      "outputs": [
        {
          "output_type": "execute_result",
          "data": {
            "text/plain": [
              "11"
            ]
          },
          "metadata": {},
          "execution_count": 30
        }
      ]
    },
    {
      "cell_type": "code",
      "metadata": {
        "colab": {
          "base_uri": "https://localhost:8080/"
        },
        "id": "QUMB2J7FXcoG",
        "outputId": "07b0438c-8a53-46b8-84af-ca9b7b3f4eda"
      },
      "source": [
        "range(2, sh.max_row)"
      ],
      "execution_count": 31,
      "outputs": [
        {
          "output_type": "execute_result",
          "data": {
            "text/plain": [
              "range(2, 11)"
            ]
          },
          "metadata": {},
          "execution_count": 31
        }
      ]
    },
    {
      "cell_type": "code",
      "metadata": {
        "colab": {
          "base_uri": "https://localhost:8080/"
        },
        "id": "isZfNVSMXqMH",
        "outputId": "1260c496-1d22-4905-943b-83a660480261"
      },
      "source": [
        "list(range(2, sh.max_row))"
      ],
      "execution_count": 32,
      "outputs": [
        {
          "output_type": "execute_result",
          "data": {
            "text/plain": [
              "[2, 3, 4, 5, 6, 7, 8, 9, 10]"
            ]
          },
          "metadata": {},
          "execution_count": 32
        }
      ]
    },
    {
      "cell_type": "code",
      "metadata": {
        "colab": {
          "base_uri": "https://localhost:8080/"
        },
        "id": "_psjlDWLXx62",
        "outputId": "d26ac4aa-54f9-40a6-c200-0bf559c04768"
      },
      "source": [
        "# 行を for 文で回す際のカラム数になる\n",
        "list(range(2, sh.max_row+1))"
      ],
      "execution_count": 33,
      "outputs": [
        {
          "output_type": "execute_result",
          "data": {
            "text/plain": [
              "[2, 3, 4, 5, 6, 7, 8, 9, 10, 11]"
            ]
          },
          "metadata": {},
          "execution_count": 33
        }
      ]
    },
    {
      "cell_type": "code",
      "metadata": {
        "colab": {
          "base_uri": "https://localhost:8080/"
        },
        "id": "tYOuiDTUX6t8",
        "outputId": "ebe3e11d-73c5-4cf4-ae13-40c7b434e978"
      },
      "source": [
        "# 列\n",
        "list(range(3, sh.max_column+1))"
      ],
      "execution_count": 34,
      "outputs": [
        {
          "output_type": "execute_result",
          "data": {
            "text/plain": [
              "[3, 4, 5, 6, 7, 8, 9, 10, 11, 12, 13, 14, 15]"
            ]
          },
          "metadata": {},
          "execution_count": 34
        }
      ]
    },
    {
      "cell_type": "code",
      "metadata": {
        "id": "1uD9Jh3cYcKa"
      },
      "source": [
        "for i in range(2, sh.max_row+1): #1行づつ\n",
        "    sh.row_dimensions[i].height = 18\n",
        "    for j in range(3, sh.max_column+1):  #1列づつ\n",
        "        sh.cell(row=i, column=j).number_format = '#,##0' # 0:小数点以下は非表示　数字のカンマの区切りを指定\n",
        "        if j==sh.max_column: # 最終列のみ運用 \n",
        "            sh.cell(row=i, column=j).font = Font(bold=True)  # フォントを太字にする"
      ],
      "execution_count": 40,
      "outputs": []
    },
    {
      "cell_type": "code",
      "metadata": {
        "id": "TlIiEZHCa0KI"
      },
      "source": [
        "from openpyxl.styles.alignment import Alignment\n",
        "TITLE_CELL_COLOR = '808080'\n",
        "\n",
        "font_headr Font(name='平成角ゴ-W5', size=12, cold=True, color='FFFFFF')\n",
        "\n",
        "for i in range(1, sh.max_column+1):\n",
        "    cell = sh.cell(row=1, column=i)\n",
        "    cell.fill = PatternFill(patternType='solid', fgColor=TITLE_CELL_COLOR)\n",
        "    cell.alignment = Alignment(horizontal='center')\n",
        "    cell.font = font_headr\n",
        "    "
      ],
      "execution_count": 42,
      "outputs": []
    },
    {
      "cell_type": "code",
      "metadata": {
        "id": "-3s1ymEiKz01"
      },
      "source": [
        "side = Side(style='thin', color='000000')\n",
        "border = Border(left=side, right=side, top=side, bottom=side)\n",
        "\n",
        "for row in sh:\n",
        "    for cell in row:\n",
        "        cell.border = border"
      ],
      "execution_count": 47,
      "outputs": []
    },
    {
      "cell_type": "code",
      "metadata": {
        "id": "3nyAnz-4K0pE"
      },
      "source": [
        "sh.freeze_panes = 'C2'"
      ],
      "execution_count": 48,
      "outputs": []
    },
    {
      "cell_type": "code",
      "metadata": {
        "id": "xQ6bUN2UK0ve"
      },
      "source": [
        "new_filepath = '/content/企業別年間売上表_修正.xlsx'\n",
        "wb.save(new_filepath)"
      ],
      "execution_count": 50,
      "outputs": []
    },
    {
      "cell_type": "markdown",
      "metadata": {
        "id": "xxDDICyjNiIP"
      },
      "source": [
        "#作成したファイルを最後にPDF出力"
      ]
    },
    {
      "cell_type": "markdown",
      "metadata": {
        "id": "sqy5yG1-OUGw"
      },
      "source": [
        "#openpyxlにはPDF書き出し機能がないので、reportlabを使用するが、ここはエクセルで行えば良いので省略＝終了"
      ]
    },
    {
      "cell_type": "code",
      "metadata": {
        "id": "z52LMZNOK0z9"
      },
      "source": [
        ""
      ],
      "execution_count": null,
      "outputs": []
    },
    {
      "cell_type": "code",
      "metadata": {
        "id": "upk0I8_fK04m"
      },
      "source": [
        ""
      ],
      "execution_count": null,
      "outputs": []
    }
  ]
}